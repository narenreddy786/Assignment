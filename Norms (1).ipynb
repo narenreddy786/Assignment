{
  "nbformat": 4,
  "nbformat_minor": 0,
  "metadata": {
    "colab": {
      "name": "Norms.ipynb",
      "provenance": [],
      "collapsed_sections": []
    },
    "kernelspec": {
      "name": "python3",
      "display_name": "Python 3"
    },
    "language_info": {
      "name": "python"
    }
  },
  "cells": [
    {
      "cell_type": "markdown",
      "metadata": {
        "id": "YEjZOF34vgmP"
      },
      "source": [
        "**L1 Norm**"
      ]
    },
    {
      "cell_type": "code",
      "metadata": {
        "id": "YLU7HvzmHTvd",
        "colab": {
          "base_uri": "https://localhost:8080/"
        },
        "outputId": "76d79368-68b2-4f38-e941-b780c1e9c579"
      },
      "source": [
        "from numpy import array\n",
        "from numpy.linalg import norm\n",
        "X = array([1, 2, 3, 4, 5])\n",
        "print(X)\n",
        "l1 = norm(X, 1)\n",
        "print(l1)"
      ],
      "execution_count": null,
      "outputs": [
        {
          "output_type": "stream",
          "text": [
            "[1 2 3 4 5]\n",
            "15.0\n"
          ],
          "name": "stdout"
        }
      ]
    },
    {
      "cell_type": "markdown",
      "metadata": {
        "id": "4SZ2VGYmvlEv"
      },
      "source": [
        "**L2 Norm**"
      ]
    },
    {
      "cell_type": "code",
      "metadata": {
        "colab": {
          "base_uri": "https://localhost:8080/"
        },
        "id": "ZR4OIlAnrV-o",
        "outputId": "1b7d82b9-237d-485a-eafd-ff48be41708a"
      },
      "source": [
        "l2 = norm(X)\n",
        "print(l2)"
      ],
      "execution_count": null,
      "outputs": [
        {
          "output_type": "stream",
          "text": [
            "7.416198487095663\n"
          ],
          "name": "stdout"
        }
      ]
    },
    {
      "cell_type": "markdown",
      "metadata": {
        "id": "hygteiSAvpOG"
      },
      "source": [
        "**MAX Norm (L infinite)**"
      ]
    },
    {
      "cell_type": "code",
      "metadata": {
        "colab": {
          "base_uri": "https://localhost:8080/"
        },
        "id": "sRO2e0c7tcnF",
        "outputId": "91ab4345-058f-4083-8c18-6eb987ce5722"
      },
      "source": [
        "from numpy import inf\n",
        "maxnorm = norm(X, inf)\n",
        "print(maxnorm)"
      ],
      "execution_count": null,
      "outputs": [
        {
          "output_type": "stream",
          "text": [
            "5.0\n"
          ],
          "name": "stdout"
        }
      ]
    },
    {
      "cell_type": "markdown",
      "metadata": {
        "id": "kN16Xebz-Bme"
      },
      "source": [
        "**Frobenius Norm (Matrix norm)**"
      ]
    },
    {
      "cell_type": "code",
      "metadata": {
        "colab": {
          "base_uri": "https://localhost:8080/"
        },
        "id": "6lP0lVUYxxHJ",
        "outputId": "3ba3c4cb-b24e-47d2-ad0b-d67e0f7b6a07"
      },
      "source": [
        "import numpy as np\n",
        "X = np. array([[1, 2], [3, 4], [5, 6]]) \n",
        "print(X)\n",
        "print()\n",
        "norm(X)"
      ],
      "execution_count": null,
      "outputs": [
        {
          "output_type": "stream",
          "text": [
            "[[1 2]\n",
            " [3 4]\n",
            " [5 6]]\n",
            "\n"
          ],
          "name": "stdout"
        },
        {
          "output_type": "execute_result",
          "data": {
            "text/plain": [
              "9.539392014169456"
            ]
          },
          "metadata": {
            "tags": []
          },
          "execution_count": 29
        }
      ]
    },
    {
      "cell_type": "markdown",
      "metadata": {
        "id": "kfHC26IdRPfr"
      },
      "source": [
        "**Other Matrix Norms**"
      ]
    },
    {
      "cell_type": "code",
      "metadata": {
        "colab": {
          "base_uri": "https://localhost:8080/"
        },
        "id": "0fUzLNO8hcu6",
        "outputId": "988e77d0-dcc1-4e3b-c530-e84ebad50837"
      },
      "source": [
        "import numpy as np\n",
        "from numpy import inf\n",
        "X = np. array([[1, 2], [3, 4], [5, 6]]) \n",
        "print(X)\n",
        "a=np.linalg.norm(X,1)\n",
        "print()\n",
        "print(a)"
      ],
      "execution_count": null,
      "outputs": [
        {
          "output_type": "stream",
          "text": [
            "[[1 2]\n",
            " [3 4]\n",
            " [5 6]]\n",
            "\n",
            "12.0\n"
          ],
          "name": "stdout"
        }
      ]
    },
    {
      "cell_type": "code",
      "metadata": {
        "colab": {
          "base_uri": "https://localhost:8080/"
        },
        "id": "Plb5J0qdhkoZ",
        "outputId": "12b080fa-b921-4528-9fa6-07c91bfa101f"
      },
      "source": [
        "b=np.linalg.norm(X,2)\n",
        "print(b)"
      ],
      "execution_count": null,
      "outputs": [
        {
          "output_type": "stream",
          "text": [
            "9.525518091565107\n"
          ],
          "name": "stdout"
        }
      ]
    },
    {
      "cell_type": "code",
      "metadata": {
        "colab": {
          "base_uri": "https://localhost:8080/"
        },
        "id": "1Z-7BRSOiaDA",
        "outputId": "1b95e4f9-90f5-4442-efa1-66b7007860af"
      },
      "source": [
        "c=np.linalg.norm(X,inf)\n",
        "print(c)"
      ],
      "execution_count": null,
      "outputs": [
        {
          "output_type": "stream",
          "text": [
            "11.0\n"
          ],
          "name": "stdout"
        }
      ]
    },
    {
      "cell_type": "code",
      "metadata": {
        "id": "yB9RC5D_ip_2"
      },
      "source": [
        ""
      ],
      "execution_count": null,
      "outputs": []
    }
  ]
}