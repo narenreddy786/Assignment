{
  "nbformat": 4,
  "nbformat_minor": 0,
  "metadata": {
    "colab": {
      "name": "Q3.ipynb",
      "provenance": [],
      "collapsed_sections": []
    },
    "kernelspec": {
      "name": "python3",
      "display_name": "Python 3"
    },
    "language_info": {
      "name": "python"
    }
  },
  "cells": [
    {
      "cell_type": "code",
      "metadata": {
        "colab": {
          "base_uri": "https://localhost:8080/"
        },
        "id": "zlD9ehSJmmkJ",
        "outputId": "a2302b11-7067-4628-b249-c05b4678d9bd"
      },
      "source": [
        "print('Naren Kumar Reddy')\n"
      ],
      "execution_count": null,
      "outputs": [
        {
          "output_type": "stream",
          "text": [
            "Naren Kumar Reddy\n"
          ],
          "name": "stdout"
        }
      ]
    },
    {
      "cell_type": "code",
      "metadata": {
        "id": "wCV9WAM28uUC"
      },
      "source": [
        "import numpy as np"
      ],
      "execution_count": null,
      "outputs": []
    },
    {
      "cell_type": "code",
      "metadata": {
        "colab": {
          "base_uri": "https://localhost:8080/"
        },
        "id": "yoKI0pOFXR0x",
        "outputId": "eb6833de-d048-431f-c5f0-7f54e9f1b010"
      },
      "source": [
        "a=np.arctan(5)\n",
        "a"
      ],
      "execution_count": null,
      "outputs": [
        {
          "output_type": "execute_result",
          "data": {
            "text/plain": [
              "1.373400766945016"
            ]
          },
          "metadata": {
            "tags": []
          },
          "execution_count": 4
        }
      ]
    },
    {
      "cell_type": "code",
      "metadata": {
        "colab": {
          "base_uri": "https://localhost:8080/"
        },
        "id": "_ysEW5PKXshv",
        "outputId": "8f0a5f20-1a62-4f70-f15a-45b40b3f524c"
      },
      "source": [
        "a=np.hypot(3,4)\n",
        "a"
      ],
      "execution_count": null,
      "outputs": [
        {
          "output_type": "execute_result",
          "data": {
            "text/plain": [
              "5.0"
            ]
          },
          "metadata": {
            "tags": []
          },
          "execution_count": 5
        }
      ]
    },
    {
      "cell_type": "code",
      "metadata": {
        "colab": {
          "base_uri": "https://localhost:8080/"
        },
        "id": "P-mB7hw2YVTe",
        "outputId": "740b7b05-0361-4680-8944-6a141f67d1c4"
      },
      "source": [
        "a=np.degrees(np.radians(np.degrees(np.arctan2(1,1))))\n",
        "a"
      ],
      "execution_count": null,
      "outputs": [
        {
          "output_type": "execute_result",
          "data": {
            "text/plain": [
              "45.0"
            ]
          },
          "metadata": {
            "tags": []
          },
          "execution_count": 10
        }
      ]
    },
    {
      "cell_type": "code",
      "metadata": {
        "colab": {
          "base_uri": "https://localhost:8080/"
        },
        "id": "oKzO5R2uZNXT",
        "outputId": "78f6d1bf-7714-4672-d036-f5664fc6b7f4"
      },
      "source": [
        "a=np.arcsinh(1)\n",
        "a"
      ],
      "execution_count": null,
      "outputs": [
        {
          "output_type": "execute_result",
          "data": {
            "text/plain": [
              "0.881373587019543"
            ]
          },
          "metadata": {
            "tags": []
          },
          "execution_count": 11
        }
      ]
    },
    {
      "cell_type": "code",
      "metadata": {
        "colab": {
          "base_uri": "https://localhost:8080/"
        },
        "id": "d0BzEjWAaHb6",
        "outputId": "ac1434c9-d6da-469f-a1ee-7772cade33ac"
      },
      "source": [
        "a=np.arccosh(3.14)\n",
        "a"
      ],
      "execution_count": null,
      "outputs": [
        {
          "output_type": "execute_result",
          "data": {
            "text/plain": [
              "1.810991348900196"
            ]
          },
          "metadata": {
            "tags": []
          },
          "execution_count": 13
        }
      ]
    },
    {
      "cell_type": "code",
      "metadata": {
        "colab": {
          "base_uri": "https://localhost:8080/"
        },
        "id": "sj3CnLWhaddk",
        "outputId": "4489e2ab-9c0b-40f3-b9cb-09cdb9d71d58"
      },
      "source": [
        "a=np.tanh(3.14)\n",
        "a"
      ],
      "execution_count": null,
      "outputs": [
        {
          "output_type": "execute_result",
          "data": {
            "text/plain": [
              "0.9962602049458319"
            ]
          },
          "metadata": {
            "tags": []
          },
          "execution_count": 14
        }
      ]
    },
    {
      "cell_type": "code",
      "metadata": {
        "colab": {
          "base_uri": "https://localhost:8080/"
        },
        "id": "GLtqklHpas-p",
        "outputId": "bf086ee9-69cb-4d53-b21b-90785aa0d2d8"
      },
      "source": [
        "a=np.fix(1.9)\n",
        "a"
      ],
      "execution_count": null,
      "outputs": [
        {
          "output_type": "execute_result",
          "data": {
            "text/plain": [
              "1.0"
            ]
          },
          "metadata": {
            "tags": []
          },
          "execution_count": 28
        }
      ]
    },
    {
      "cell_type": "code",
      "metadata": {
        "colab": {
          "base_uri": "https://localhost:8080/"
        },
        "id": "6mu1IqCna5XN",
        "outputId": "7b1647c6-e38d-4a8f-d311-1ef3d33dabaa"
      },
      "source": [
        "a=np.floor(-1.1)\n",
        "a"
      ],
      "execution_count": null,
      "outputs": [
        {
          "output_type": "execute_result",
          "data": {
            "text/plain": [
              "-2.0"
            ]
          },
          "metadata": {
            "tags": []
          },
          "execution_count": 17
        }
      ]
    },
    {
      "cell_type": "code",
      "metadata": {
        "colab": {
          "base_uri": "https://localhost:8080/"
        },
        "id": "aJ6olc85buxR",
        "outputId": "253b31e0-e1cf-4e50-f66d-9e2820d7e548"
      },
      "source": [
        "a=np.ceil(1.1)\n",
        "a"
      ],
      "execution_count": null,
      "outputs": [
        {
          "output_type": "execute_result",
          "data": {
            "text/plain": [
              "2.0"
            ]
          },
          "metadata": {
            "tags": []
          },
          "execution_count": 19
        }
      ]
    },
    {
      "cell_type": "code",
      "metadata": {
        "colab": {
          "base_uri": "https://localhost:8080/"
        },
        "id": "lTH1LXGfb0oo",
        "outputId": "5b57aba5-00a8-4c38-d28e-302680aa57f3"
      },
      "source": [
        "a=np.trunc(1.5)\n",
        "a"
      ],
      "execution_count": null,
      "outputs": [
        {
          "output_type": "execute_result",
          "data": {
            "text/plain": [
              "1.0"
            ]
          },
          "metadata": {
            "tags": []
          },
          "execution_count": 29
        }
      ]
    },
    {
      "cell_type": "code",
      "metadata": {
        "colab": {
          "base_uri": "https://localhost:8080/"
        },
        "id": "CyTebWVTb9-J",
        "outputId": "1cdac4ce-f4e5-400e-d840-3bd27bb89289"
      },
      "source": [
        "a=np.cumprod([1,2,3,4])\n",
        "print(a)"
      ],
      "execution_count": null,
      "outputs": [
        {
          "output_type": "stream",
          "text": [
            "[ 1  2  6 24]\n"
          ],
          "name": "stdout"
        }
      ]
    },
    {
      "cell_type": "code",
      "metadata": {
        "colab": {
          "base_uri": "https://localhost:8080/"
        },
        "id": "5QUT434edO95",
        "outputId": "e5ea682d-0624-44f3-b9bc-414272d86b0b"
      },
      "source": [
        "a=np.cumsum([4,5,6])\n",
        "print(a)\n",
        "a=a+1\n",
        "a"
      ],
      "execution_count": null,
      "outputs": [
        {
          "output_type": "stream",
          "text": [
            "[ 4  9 15]\n"
          ],
          "name": "stdout"
        },
        {
          "output_type": "execute_result",
          "data": {
            "text/plain": [
              "array([ 5, 10, 16])"
            ]
          },
          "metadata": {
            "tags": []
          },
          "execution_count": 33
        }
      ]
    },
    {
      "cell_type": "code",
      "metadata": {
        "colab": {
          "base_uri": "https://localhost:8080/"
        },
        "id": "dB_Ki9XmdphG",
        "outputId": "4e6cee46-18c7-40e9-d745-ebfe46819ad2"
      },
      "source": [
        "a=[2,6,7]\n",
        "a=np.array(a)\n",
        "a=a+1\n",
        "a"
      ],
      "execution_count": null,
      "outputs": [
        {
          "output_type": "execute_result",
          "data": {
            "text/plain": [
              "array([3, 7, 8])"
            ]
          },
          "metadata": {
            "tags": []
          },
          "execution_count": 35
        }
      ]
    },
    {
      "cell_type": "code",
      "metadata": {
        "colab": {
          "base_uri": "https://localhost:8080/"
        },
        "id": "vR7LAt8SeDdr",
        "outputId": "1c3fae1d-52a7-420b-a907-0c331ca0ed75"
      },
      "source": [
        "a=np.cross([1,2,3],[4,5,6])\n",
        "a"
      ],
      "execution_count": null,
      "outputs": [
        {
          "output_type": "execute_result",
          "data": {
            "text/plain": [
              "array([-3,  6, -3])"
            ]
          },
          "metadata": {
            "tags": []
          },
          "execution_count": 39
        }
      ]
    },
    {
      "cell_type": "code",
      "metadata": {
        "colab": {
          "base_uri": "https://localhost:8080/"
        },
        "id": "aI4bAmxcfG7B",
        "outputId": "ddf5dff6-0faa-491c-aa55-9b2bb83f4838"
      },
      "source": [
        "a=np.log(2.71)\n",
        "a"
      ],
      "execution_count": null,
      "outputs": [
        {
          "output_type": "execute_result",
          "data": {
            "text/plain": [
              "0.9969486348916096"
            ]
          },
          "metadata": {
            "tags": []
          },
          "execution_count": 42
        }
      ]
    },
    {
      "cell_type": "code",
      "metadata": {
        "colab": {
          "base_uri": "https://localhost:8080/"
        },
        "id": "ZNSRB7TVgpPk",
        "outputId": "45491395-11fc-4852-8e1e-b126d05f06a8"
      },
      "source": [
        "a=np.log10(100)\n",
        "a"
      ],
      "execution_count": null,
      "outputs": [
        {
          "output_type": "execute_result",
          "data": {
            "text/plain": [
              "2.0"
            ]
          },
          "metadata": {
            "tags": []
          },
          "execution_count": 43
        }
      ]
    },
    {
      "cell_type": "code",
      "metadata": {
        "colab": {
          "base_uri": "https://localhost:8080/"
        },
        "id": "Rjceh-OQg2pA",
        "outputId": "4c68784d-6b80-4fcc-c2ca-0950131ef649"
      },
      "source": [
        "a=np.log1p(1+2)\n",
        "a"
      ],
      "execution_count": null,
      "outputs": [
        {
          "output_type": "execute_result",
          "data": {
            "text/plain": [
              "1.3862943611198906"
            ]
          },
          "metadata": {
            "tags": []
          },
          "execution_count": 45
        }
      ]
    },
    {
      "cell_type": "code",
      "metadata": {
        "colab": {
          "base_uri": "https://localhost:8080/"
        },
        "id": "ZOZBp3HPhJlU",
        "outputId": "1d2a7bc8-9914-40b5-f2d6-514b54fcc182"
      },
      "source": [
        "a=np.sign([-2,2])\n",
        "a"
      ],
      "execution_count": null,
      "outputs": [
        {
          "output_type": "execute_result",
          "data": {
            "text/plain": [
              "array([-1,  1])"
            ]
          },
          "metadata": {
            "tags": []
          },
          "execution_count": 46
        }
      ]
    },
    {
      "cell_type": "code",
      "metadata": {
        "colab": {
          "base_uri": "https://localhost:8080/"
        },
        "id": "JunsUXLrilFZ",
        "outputId": "97c8cf2b-8c6b-4119-fa01-0c70a42ad6ec"
      },
      "source": [
        "a=np.fabs([-1,1,3,-3])\n",
        "a"
      ],
      "execution_count": null,
      "outputs": [
        {
          "output_type": "execute_result",
          "data": {
            "text/plain": [
              "array([1., 1., 3., 3.])"
            ]
          },
          "metadata": {
            "tags": []
          },
          "execution_count": 49
        }
      ]
    },
    {
      "cell_type": "code",
      "metadata": {
        "colab": {
          "base_uri": "https://localhost:8080/"
        },
        "id": "cK36rXKwixg9",
        "outputId": "4f421e11-d8d0-4bc0-ecd5-45be8a50b1ea"
      },
      "source": [
        "a=np.maximum([1,2,3],[4,0,6])\n",
        "a"
      ],
      "execution_count": null,
      "outputs": [
        {
          "output_type": "execute_result",
          "data": {
            "text/plain": [
              "array([4, 2, 6])"
            ]
          },
          "metadata": {
            "tags": []
          },
          "execution_count": 51
        }
      ]
    },
    {
      "cell_type": "code",
      "metadata": {
        "colab": {
          "base_uri": "https://localhost:8080/"
        },
        "id": "DprObsDAjSLB",
        "outputId": "59a84342-fced-4ffd-c347-06d823c5dd16"
      },
      "source": [
        "a=np.conjugate(1+2j)\n",
        "a"
      ],
      "execution_count": null,
      "outputs": [
        {
          "output_type": "execute_result",
          "data": {
            "text/plain": [
              "(1-2j)"
            ]
          },
          "metadata": {
            "tags": []
          },
          "execution_count": 52
        }
      ]
    },
    {
      "cell_type": "code",
      "metadata": {
        "colab": {
          "base_uri": "https://localhost:8080/"
        },
        "id": "0KihxhsejwCx",
        "outputId": "2a36877b-72bb-499d-e6c5-99f1fa724395"
      },
      "source": [
        "a=np.conj(1-2j)\n",
        "a"
      ],
      "execution_count": null,
      "outputs": [
        {
          "output_type": "execute_result",
          "data": {
            "text/plain": [
              "(1+2j)"
            ]
          },
          "metadata": {
            "tags": []
          },
          "execution_count": 53
        }
      ]
    },
    {
      "cell_type": "code",
      "metadata": {
        "colab": {
          "base_uri": "https://localhost:8080/"
        },
        "id": "2kpZ2i8Jj71X",
        "outputId": "546ef466-4c43-463a-df07-edbc1f965d45"
      },
      "source": [
        "a=np.divmod(np.arange(8), 5)\n",
        "a"
      ],
      "execution_count": null,
      "outputs": [
        {
          "output_type": "execute_result",
          "data": {
            "text/plain": [
              "(array([0, 0, 0, 0, 0, 1, 1, 1]), array([0, 1, 2, 3, 4, 0, 1, 2]))"
            ]
          },
          "metadata": {
            "tags": []
          },
          "execution_count": 54
        }
      ]
    },
    {
      "cell_type": "code",
      "metadata": {
        "colab": {
          "base_uri": "https://localhost:8080/"
        },
        "id": "-b9ta4FikXBt",
        "outputId": "2087bbc4-79f3-40f8-f3af-3ab5ddfa8134"
      },
      "source": [
        "a=np.mod(5,2)\n",
        "a"
      ],
      "execution_count": null,
      "outputs": [
        {
          "output_type": "execute_result",
          "data": {
            "text/plain": [
              "1"
            ]
          },
          "metadata": {
            "tags": []
          },
          "execution_count": 55
        }
      ]
    },
    {
      "cell_type": "code",
      "metadata": {
        "colab": {
          "base_uri": "https://localhost:8080/"
        },
        "id": "dDzvAr3Tko-8",
        "outputId": "3c9f3fab-b944-4c9a-c2e7-8a753c697669"
      },
      "source": [
        "a=np.power(2,5)\n",
        "a"
      ],
      "execution_count": null,
      "outputs": [
        {
          "output_type": "execute_result",
          "data": {
            "text/plain": [
              "32"
            ]
          },
          "metadata": {
            "tags": []
          },
          "execution_count": 56
        }
      ]
    },
    {
      "cell_type": "code",
      "metadata": {
        "colab": {
          "base_uri": "https://localhost:8080/"
        },
        "id": "bemwEfPrk8TY",
        "outputId": "e957e72b-e320-4068-d591-5e5bc54aa426"
      },
      "source": [
        "a=np.gcd(2,6)\n",
        "a"
      ],
      "execution_count": null,
      "outputs": [
        {
          "output_type": "execute_result",
          "data": {
            "text/plain": [
              "2"
            ]
          },
          "metadata": {
            "tags": []
          },
          "execution_count": 58
        }
      ]
    },
    {
      "cell_type": "code",
      "metadata": {
        "colab": {
          "base_uri": "https://localhost:8080/"
        },
        "id": "GMojgrhHlPgU",
        "outputId": "cb52bd42-c422-45b9-cde3-836c8763f255"
      },
      "source": [
        "a=np.sinc(range(1,10))\n",
        "a"
      ],
      "execution_count": null,
      "outputs": [
        {
          "output_type": "execute_result",
          "data": {
            "text/plain": [
              "array([ 3.89817183e-17, -3.89817183e-17,  3.89817183e-17, -3.89817183e-17,\n",
              "        3.89817183e-17, -3.89817183e-17,  3.89817183e-17, -3.89817183e-17,\n",
              "        3.89817183e-17])"
            ]
          },
          "metadata": {
            "tags": []
          },
          "execution_count": 59
        }
      ]
    },
    {
      "cell_type": "code",
      "metadata": {
        "id": "6L3mhJNNmXxO",
        "colab": {
          "base_uri": "https://localhost:8080/"
        },
        "outputId": "93947b62-2bf1-41e1-fced-5b98cd4c56ad"
      },
      "source": [
        "x=np.arange(4).reshape(2,2)\n",
        "y=np.arange(4,8).reshape(2,2)\n",
        "z=np.vstack((x,y))\n",
        "z"
      ],
      "execution_count": null,
      "outputs": [
        {
          "output_type": "execute_result",
          "data": {
            "text/plain": [
              "array([[0, 1],\n",
              "       [2, 3],\n",
              "       [4, 5],\n",
              "       [6, 7]])"
            ]
          },
          "metadata": {
            "tags": []
          },
          "execution_count": 61
        }
      ]
    },
    {
      "cell_type": "code",
      "metadata": {
        "colab": {
          "base_uri": "https://localhost:8080/"
        },
        "id": "DjITBquhtktg",
        "outputId": "5570a70f-9faf-4228-a74f-04b3935f2545"
      },
      "source": [
        "x=np.arange(4).reshape(2,2)\n",
        "y=np.arange(4,8).reshape(2,2)\n",
        "z=np.dstack((x,y))\n",
        "z"
      ],
      "execution_count": null,
      "outputs": [
        {
          "output_type": "execute_result",
          "data": {
            "text/plain": [
              "array([[[0, 4],\n",
              "        [1, 5]],\n",
              "\n",
              "       [[2, 6],\n",
              "        [3, 7]]])"
            ]
          },
          "metadata": {
            "tags": []
          },
          "execution_count": 62
        }
      ]
    },
    {
      "cell_type": "code",
      "metadata": {
        "colab": {
          "base_uri": "https://localhost:8080/"
        },
        "id": "1XqGi26Rtq-J",
        "outputId": "462d7a2c-645f-4c77-d12a-600e5a41704f"
      },
      "source": [
        "x=np.arange(4).reshape(2,2)\n",
        "y=np.arange(4,8).reshape(2,2)\n",
        "z=np.hstack((x,y))\n",
        "z"
      ],
      "execution_count": null,
      "outputs": [
        {
          "output_type": "execute_result",
          "data": {
            "text/plain": [
              "array([[0, 1, 4, 5],\n",
              "       [2, 3, 6, 7]])"
            ]
          },
          "metadata": {
            "tags": []
          },
          "execution_count": 63
        }
      ]
    },
    {
      "cell_type": "code",
      "metadata": {
        "id": "mRdaspFkvU1G"
      },
      "source": [
        ""
      ],
      "execution_count": null,
      "outputs": []
    }
  ]
}